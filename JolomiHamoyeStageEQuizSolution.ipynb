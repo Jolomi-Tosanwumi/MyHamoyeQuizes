{
 "cells": [
  {
   "cell_type": "code",
   "execution_count": 1,
   "metadata": {
    "_cell_guid": "79c7e3d0-c299-4dcb-8224-4455121ee9b0",
    "_uuid": "d629ff2d2480ee46fbb7e2d37f6b5fab8052498a",
    "execution": {
     "iopub.execute_input": "2020-10-13T10:34:25.055411Z",
     "iopub.status.busy": "2020-10-13T10:34:25.054770Z",
     "iopub.status.idle": "2020-10-13T10:34:25.874208Z",
     "shell.execute_reply": "2020-10-13T10:34:25.873596Z"
    },
    "papermill": {
     "duration": 0.860715,
     "end_time": "2020-10-13T10:34:25.874342",
     "exception": false,
     "start_time": "2020-10-13T10:34:25.013627",
     "status": "completed"
    },
    "tags": []
   },
   "outputs": [],
   "source": [
    "import numpy as np\n",
    "import pandas as pd\n",
    "import matplotlib.pyplot as plt\n",
    "import seaborn\n",
    "import warnings\n",
    "\n",
    "warnings.filterwarnings('ignore')\n",
    "\n",
    "%matplotlib inline"
   ]
  },
  {
   "cell_type": "code",
   "execution_count": 2,
   "metadata": {
    "execution": {
     "iopub.execute_input": "2020-10-13T10:34:25.949014Z",
     "iopub.status.busy": "2020-10-13T10:34:25.948260Z",
     "iopub.status.idle": "2020-10-13T10:34:35.455476Z",
     "shell.execute_reply": "2020-10-13T10:34:35.455950Z"
    },
    "papermill": {
     "duration": 9.548289,
     "end_time": "2020-10-13T10:34:35.456087",
     "exception": false,
     "start_time": "2020-10-13T10:34:25.907798",
     "status": "completed"
    },
    "tags": []
   },
   "outputs": [
    {
     "data": {
      "text/html": [
       "<div>\n",
       "<style scoped>\n",
       "    .dataframe tbody tr th:only-of-type {\n",
       "        vertical-align: middle;\n",
       "    }\n",
       "\n",
       "    .dataframe tbody tr th {\n",
       "        vertical-align: top;\n",
       "    }\n",
       "\n",
       "    .dataframe thead th {\n",
       "        text-align: right;\n",
       "    }\n",
       "</style>\n",
       "<table border=\"1\" class=\"dataframe\">\n",
       "  <thead>\n",
       "    <tr style=\"text-align: right;\">\n",
       "      <th></th>\n",
       "      <th>Timestamp</th>\n",
       "      <th>Global_active_power</th>\n",
       "      <th>Global_reactive_power</th>\n",
       "      <th>Voltage</th>\n",
       "      <th>Global_intensity</th>\n",
       "      <th>Sub_metering_1</th>\n",
       "      <th>Sub_metering_2</th>\n",
       "      <th>Sub_metering_3</th>\n",
       "    </tr>\n",
       "  </thead>\n",
       "  <tbody>\n",
       "    <tr>\n",
       "      <th>0</th>\n",
       "      <td>2006-12-16 17:24:00</td>\n",
       "      <td>4.216</td>\n",
       "      <td>0.418</td>\n",
       "      <td>234.840</td>\n",
       "      <td>18.400</td>\n",
       "      <td>0.000</td>\n",
       "      <td>1.000</td>\n",
       "      <td>17.0</td>\n",
       "    </tr>\n",
       "    <tr>\n",
       "      <th>1</th>\n",
       "      <td>2006-12-16 17:25:00</td>\n",
       "      <td>5.360</td>\n",
       "      <td>0.436</td>\n",
       "      <td>233.630</td>\n",
       "      <td>23.000</td>\n",
       "      <td>0.000</td>\n",
       "      <td>1.000</td>\n",
       "      <td>16.0</td>\n",
       "    </tr>\n",
       "    <tr>\n",
       "      <th>2</th>\n",
       "      <td>2006-12-16 17:26:00</td>\n",
       "      <td>5.374</td>\n",
       "      <td>0.498</td>\n",
       "      <td>233.290</td>\n",
       "      <td>23.000</td>\n",
       "      <td>0.000</td>\n",
       "      <td>2.000</td>\n",
       "      <td>17.0</td>\n",
       "    </tr>\n",
       "    <tr>\n",
       "      <th>3</th>\n",
       "      <td>2006-12-16 17:27:00</td>\n",
       "      <td>5.388</td>\n",
       "      <td>0.502</td>\n",
       "      <td>233.740</td>\n",
       "      <td>23.000</td>\n",
       "      <td>0.000</td>\n",
       "      <td>1.000</td>\n",
       "      <td>17.0</td>\n",
       "    </tr>\n",
       "    <tr>\n",
       "      <th>4</th>\n",
       "      <td>2006-12-16 17:28:00</td>\n",
       "      <td>3.666</td>\n",
       "      <td>0.528</td>\n",
       "      <td>235.680</td>\n",
       "      <td>15.800</td>\n",
       "      <td>0.000</td>\n",
       "      <td>1.000</td>\n",
       "      <td>17.0</td>\n",
       "    </tr>\n",
       "  </tbody>\n",
       "</table>\n",
       "</div>"
      ],
      "text/plain": [
       "            Timestamp Global_active_power Global_reactive_power  Voltage  \\\n",
       "0 2006-12-16 17:24:00               4.216                 0.418  234.840   \n",
       "1 2006-12-16 17:25:00               5.360                 0.436  233.630   \n",
       "2 2006-12-16 17:26:00               5.374                 0.498  233.290   \n",
       "3 2006-12-16 17:27:00               5.388                 0.502  233.740   \n",
       "4 2006-12-16 17:28:00               3.666                 0.528  235.680   \n",
       "\n",
       "  Global_intensity Sub_metering_1 Sub_metering_2  Sub_metering_3  \n",
       "0           18.400          0.000          1.000            17.0  \n",
       "1           23.000          0.000          1.000            16.0  \n",
       "2           23.000          0.000          2.000            17.0  \n",
       "3           23.000          0.000          1.000            17.0  \n",
       "4           15.800          0.000          1.000            17.0  "
      ]
     },
     "execution_count": 2,
     "metadata": {},
     "output_type": "execute_result"
    }
   ],
   "source": [
    "# loading in the data\n",
    "df = pd.read_csv('../input/household-power-consumption/household_power_consumption.txt', sep=';', \\\n",
    "                 low_memory=False, infer_datetime_format=True, parse_dates={'Timestamp': [0, 1]} )\n",
    "df.head()"
   ]
  },
  {
   "cell_type": "code",
   "execution_count": 3,
   "metadata": {
    "execution": {
     "iopub.execute_input": "2020-10-13T10:34:35.528809Z",
     "iopub.status.busy": "2020-10-13T10:34:35.527834Z",
     "iopub.status.idle": "2020-10-13T10:34:35.531826Z",
     "shell.execute_reply": "2020-10-13T10:34:35.531220Z"
    },
    "papermill": {
     "duration": 0.04204,
     "end_time": "2020-10-13T10:34:35.531935",
     "exception": false,
     "start_time": "2020-10-13T10:34:35.489895",
     "status": "completed"
    },
    "tags": []
   },
   "outputs": [
    {
     "data": {
      "text/plain": [
       "(2075259, 8)"
      ]
     },
     "execution_count": 3,
     "metadata": {},
     "output_type": "execute_result"
    }
   ],
   "source": [
    "df.shape"
   ]
  },
  {
   "cell_type": "code",
   "execution_count": 4,
   "metadata": {
    "execution": {
     "iopub.execute_input": "2020-10-13T10:34:35.613889Z",
     "iopub.status.busy": "2020-10-13T10:34:35.608983Z",
     "iopub.status.idle": "2020-10-13T10:34:35.618053Z",
     "shell.execute_reply": "2020-10-13T10:34:35.617574Z"
    },
    "papermill": {
     "duration": 0.052537,
     "end_time": "2020-10-13T10:34:35.618166",
     "exception": false,
     "start_time": "2020-10-13T10:34:35.565629",
     "status": "completed"
    },
    "tags": []
   },
   "outputs": [
    {
     "data": {
      "text/html": [
       "<div>\n",
       "<style scoped>\n",
       "    .dataframe tbody tr th:only-of-type {\n",
       "        vertical-align: middle;\n",
       "    }\n",
       "\n",
       "    .dataframe tbody tr th {\n",
       "        vertical-align: top;\n",
       "    }\n",
       "\n",
       "    .dataframe thead th {\n",
       "        text-align: right;\n",
       "    }\n",
       "</style>\n",
       "<table border=\"1\" class=\"dataframe\">\n",
       "  <thead>\n",
       "    <tr style=\"text-align: right;\">\n",
       "      <th></th>\n",
       "      <th>Global_active_power</th>\n",
       "      <th>Global_reactive_power</th>\n",
       "      <th>Voltage</th>\n",
       "      <th>Global_intensity</th>\n",
       "      <th>Sub_metering_1</th>\n",
       "      <th>Sub_metering_2</th>\n",
       "      <th>Sub_metering_3</th>\n",
       "    </tr>\n",
       "    <tr>\n",
       "      <th>Timestamp</th>\n",
       "      <th></th>\n",
       "      <th></th>\n",
       "      <th></th>\n",
       "      <th></th>\n",
       "      <th></th>\n",
       "      <th></th>\n",
       "      <th></th>\n",
       "    </tr>\n",
       "  </thead>\n",
       "  <tbody>\n",
       "    <tr>\n",
       "      <th>2006-12-16 17:24:00</th>\n",
       "      <td>4.216</td>\n",
       "      <td>0.418</td>\n",
       "      <td>234.840</td>\n",
       "      <td>18.400</td>\n",
       "      <td>0.000</td>\n",
       "      <td>1.000</td>\n",
       "      <td>17.0</td>\n",
       "    </tr>\n",
       "    <tr>\n",
       "      <th>2006-12-16 17:25:00</th>\n",
       "      <td>5.360</td>\n",
       "      <td>0.436</td>\n",
       "      <td>233.630</td>\n",
       "      <td>23.000</td>\n",
       "      <td>0.000</td>\n",
       "      <td>1.000</td>\n",
       "      <td>16.0</td>\n",
       "    </tr>\n",
       "    <tr>\n",
       "      <th>2006-12-16 17:26:00</th>\n",
       "      <td>5.374</td>\n",
       "      <td>0.498</td>\n",
       "      <td>233.290</td>\n",
       "      <td>23.000</td>\n",
       "      <td>0.000</td>\n",
       "      <td>2.000</td>\n",
       "      <td>17.0</td>\n",
       "    </tr>\n",
       "    <tr>\n",
       "      <th>2006-12-16 17:27:00</th>\n",
       "      <td>5.388</td>\n",
       "      <td>0.502</td>\n",
       "      <td>233.740</td>\n",
       "      <td>23.000</td>\n",
       "      <td>0.000</td>\n",
       "      <td>1.000</td>\n",
       "      <td>17.0</td>\n",
       "    </tr>\n",
       "    <tr>\n",
       "      <th>2006-12-16 17:28:00</th>\n",
       "      <td>3.666</td>\n",
       "      <td>0.528</td>\n",
       "      <td>235.680</td>\n",
       "      <td>15.800</td>\n",
       "      <td>0.000</td>\n",
       "      <td>1.000</td>\n",
       "      <td>17.0</td>\n",
       "    </tr>\n",
       "  </tbody>\n",
       "</table>\n",
       "</div>"
      ],
      "text/plain": [
       "                    Global_active_power Global_reactive_power  Voltage  \\\n",
       "Timestamp                                                                \n",
       "2006-12-16 17:24:00               4.216                 0.418  234.840   \n",
       "2006-12-16 17:25:00               5.360                 0.436  233.630   \n",
       "2006-12-16 17:26:00               5.374                 0.498  233.290   \n",
       "2006-12-16 17:27:00               5.388                 0.502  233.740   \n",
       "2006-12-16 17:28:00               3.666                 0.528  235.680   \n",
       "\n",
       "                    Global_intensity Sub_metering_1 Sub_metering_2  \\\n",
       "Timestamp                                                            \n",
       "2006-12-16 17:24:00           18.400          0.000          1.000   \n",
       "2006-12-16 17:25:00           23.000          0.000          1.000   \n",
       "2006-12-16 17:26:00           23.000          0.000          2.000   \n",
       "2006-12-16 17:27:00           23.000          0.000          1.000   \n",
       "2006-12-16 17:28:00           15.800          0.000          1.000   \n",
       "\n",
       "                     Sub_metering_3  \n",
       "Timestamp                            \n",
       "2006-12-16 17:24:00            17.0  \n",
       "2006-12-16 17:25:00            16.0  \n",
       "2006-12-16 17:26:00            17.0  \n",
       "2006-12-16 17:27:00            17.0  \n",
       "2006-12-16 17:28:00            17.0  "
      ]
     },
     "execution_count": 4,
     "metadata": {},
     "output_type": "execute_result"
    }
   ],
   "source": [
    "df.set_index('Timestamp', inplace=True) # sets the index\n",
    "df.head()"
   ]
  },
  {
   "cell_type": "code",
   "execution_count": 5,
   "metadata": {
    "execution": {
     "iopub.execute_input": "2020-10-13T10:34:35.691064Z",
     "iopub.status.busy": "2020-10-13T10:34:35.690400Z",
     "iopub.status.idle": "2020-10-13T10:34:35.746115Z",
     "shell.execute_reply": "2020-10-13T10:34:35.746611Z"
    },
    "papermill": {
     "duration": 0.094199,
     "end_time": "2020-10-13T10:34:35.746765",
     "exception": false,
     "start_time": "2020-10-13T10:34:35.652566",
     "status": "completed"
    },
    "tags": []
   },
   "outputs": [],
   "source": [
    "household_df = df.copy() # copies df to 'household_df' variable to be our working dataframe"
   ]
  },
  {
   "cell_type": "code",
   "execution_count": 6,
   "metadata": {
    "execution": {
     "iopub.execute_input": "2020-10-13T10:34:35.821359Z",
     "iopub.status.busy": "2020-10-13T10:34:35.820728Z",
     "iopub.status.idle": "2020-10-13T10:34:36.333235Z",
     "shell.execute_reply": "2020-10-13T10:34:36.332613Z"
    },
    "papermill": {
     "duration": 0.551652,
     "end_time": "2020-10-13T10:34:36.333347",
     "exception": false,
     "start_time": "2020-10-13T10:34:35.781695",
     "status": "completed"
    },
    "tags": []
   },
   "outputs": [
    {
     "data": {
      "text/plain": [
       "Global_active_power          0\n",
       "Global_reactive_power        0\n",
       "Voltage                      0\n",
       "Global_intensity             0\n",
       "Sub_metering_1               0\n",
       "Sub_metering_2               0\n",
       "Sub_metering_3           25979\n",
       "dtype: int64"
      ]
     },
     "execution_count": 6,
     "metadata": {},
     "output_type": "execute_result"
    }
   ],
   "source": [
    "household_df.isnull().sum() # checks for Nan values"
   ]
  },
  {
   "cell_type": "code",
   "execution_count": 7,
   "metadata": {
    "execution": {
     "iopub.execute_input": "2020-10-13T10:34:36.409713Z",
     "iopub.status.busy": "2020-10-13T10:34:36.408970Z",
     "iopub.status.idle": "2020-10-13T10:34:36.412567Z",
     "shell.execute_reply": "2020-10-13T10:34:36.412078Z"
    },
    "papermill": {
     "duration": 0.044363,
     "end_time": "2020-10-13T10:34:36.412677",
     "exception": false,
     "start_time": "2020-10-13T10:34:36.368314",
     "status": "completed"
    },
    "tags": []
   },
   "outputs": [
    {
     "data": {
      "text/plain": [
       "Global_active_power       object\n",
       "Global_reactive_power     object\n",
       "Voltage                   object\n",
       "Global_intensity          object\n",
       "Sub_metering_1            object\n",
       "Sub_metering_2            object\n",
       "Sub_metering_3           float64\n",
       "dtype: object"
      ]
     },
     "execution_count": 7,
     "metadata": {},
     "output_type": "execute_result"
    }
   ],
   "source": [
    "household_df.dtypes # checking the data types"
   ]
  },
  {
   "cell_type": "markdown",
   "metadata": {
    "papermill": {
     "duration": 0.035431,
     "end_time": "2020-10-13T10:34:36.483697",
     "exception": false,
     "start_time": "2020-10-13T10:34:36.448266",
     "status": "completed"
    },
    "tags": []
   },
   "source": [
    "#### Let's convert the data types of the dataset to float to speed up computation. Running ````df.astype(np.float32)```` threw ***ValueError: could not convert string to float: '?'***. This means that somehow, our dataset contains '***?***' and we need to handle them. First, let's see where they appear. It is obvious they aren't in ````Sub_metering_3```` because its data type is float."
   ]
  },
  {
   "cell_type": "code",
   "execution_count": 8,
   "metadata": {
    "execution": {
     "iopub.execute_input": "2020-10-13T10:34:37.599847Z",
     "iopub.status.busy": "2020-10-13T10:34:36.559158Z",
     "iopub.status.idle": "2020-10-13T10:34:37.626122Z",
     "shell.execute_reply": "2020-10-13T10:34:37.625631Z"
    },
    "papermill": {
     "duration": 1.106656,
     "end_time": "2020-10-13T10:34:37.626240",
     "exception": false,
     "start_time": "2020-10-13T10:34:36.519584",
     "status": "completed"
    },
    "tags": []
   },
   "outputs": [
    {
     "data": {
      "text/plain": [
       "Global_active_power      25979\n",
       "Global_reactive_power    25979\n",
       "Voltage                  25979\n",
       "Global_intensity         25979\n",
       "Sub_metering_1           25979\n",
       "Sub_metering_2           25979\n",
       "Sub_metering_3               0\n",
       "dtype: int64"
      ]
     },
     "execution_count": 8,
     "metadata": {},
     "output_type": "execute_result"
    }
   ],
   "source": [
    "(household_df == '?').sum() # checking the number of question marks present"
   ]
  },
  {
   "cell_type": "code",
   "execution_count": 9,
   "metadata": {
    "execution": {
     "iopub.execute_input": "2020-10-13T10:34:37.702333Z",
     "iopub.status.busy": "2020-10-13T10:34:37.701747Z",
     "iopub.status.idle": "2020-10-13T10:34:37.704420Z",
     "shell.execute_reply": "2020-10-13T10:34:37.703866Z"
    },
    "papermill": {
     "duration": 0.042435,
     "end_time": "2020-10-13T10:34:37.704547",
     "exception": false,
     "start_time": "2020-10-13T10:34:37.662112",
     "status": "completed"
    },
    "tags": []
   },
   "outputs": [],
   "source": [
    "cols = list(household_df.columns) # storing the columns in a variable"
   ]
  },
  {
   "cell_type": "code",
   "execution_count": 10,
   "metadata": {
    "execution": {
     "iopub.execute_input": "2020-10-13T10:34:37.957996Z",
     "iopub.status.busy": "2020-10-13T10:34:37.957248Z",
     "iopub.status.idle": "2020-10-13T10:34:37.973113Z",
     "shell.execute_reply": "2020-10-13T10:34:37.972650Z"
    },
    "papermill": {
     "duration": 0.232439,
     "end_time": "2020-10-13T10:34:37.973232",
     "exception": false,
     "start_time": "2020-10-13T10:34:37.740793",
     "status": "completed"
    },
    "tags": []
   },
   "outputs": [
    {
     "data": {
      "text/html": [
       "<div>\n",
       "<style scoped>\n",
       "    .dataframe tbody tr th:only-of-type {\n",
       "        vertical-align: middle;\n",
       "    }\n",
       "\n",
       "    .dataframe tbody tr th {\n",
       "        vertical-align: top;\n",
       "    }\n",
       "\n",
       "    .dataframe thead th {\n",
       "        text-align: right;\n",
       "    }\n",
       "</style>\n",
       "<table border=\"1\" class=\"dataframe\">\n",
       "  <thead>\n",
       "    <tr style=\"text-align: right;\">\n",
       "      <th></th>\n",
       "      <th>Global_active_power</th>\n",
       "      <th>Global_reactive_power</th>\n",
       "      <th>Voltage</th>\n",
       "      <th>Global_intensity</th>\n",
       "      <th>Sub_metering_1</th>\n",
       "      <th>Sub_metering_2</th>\n",
       "      <th>Sub_metering_3</th>\n",
       "    </tr>\n",
       "    <tr>\n",
       "      <th>Timestamp</th>\n",
       "      <th></th>\n",
       "      <th></th>\n",
       "      <th></th>\n",
       "      <th></th>\n",
       "      <th></th>\n",
       "      <th></th>\n",
       "      <th></th>\n",
       "    </tr>\n",
       "  </thead>\n",
       "  <tbody>\n",
       "    <tr>\n",
       "      <th>2006-12-21 11:23:00</th>\n",
       "      <td>?</td>\n",
       "      <td>?</td>\n",
       "      <td>?</td>\n",
       "      <td>?</td>\n",
       "      <td>?</td>\n",
       "      <td>?</td>\n",
       "      <td>NaN</td>\n",
       "    </tr>\n",
       "    <tr>\n",
       "      <th>2006-12-21 11:24:00</th>\n",
       "      <td>?</td>\n",
       "      <td>?</td>\n",
       "      <td>?</td>\n",
       "      <td>?</td>\n",
       "      <td>?</td>\n",
       "      <td>?</td>\n",
       "      <td>NaN</td>\n",
       "    </tr>\n",
       "    <tr>\n",
       "      <th>2006-12-30 10:08:00</th>\n",
       "      <td>?</td>\n",
       "      <td>?</td>\n",
       "      <td>?</td>\n",
       "      <td>?</td>\n",
       "      <td>?</td>\n",
       "      <td>?</td>\n",
       "      <td>NaN</td>\n",
       "    </tr>\n",
       "    <tr>\n",
       "      <th>2006-12-30 10:09:00</th>\n",
       "      <td>?</td>\n",
       "      <td>?</td>\n",
       "      <td>?</td>\n",
       "      <td>?</td>\n",
       "      <td>?</td>\n",
       "      <td>?</td>\n",
       "      <td>NaN</td>\n",
       "    </tr>\n",
       "    <tr>\n",
       "      <th>2007-01-14 18:36:00</th>\n",
       "      <td>?</td>\n",
       "      <td>?</td>\n",
       "      <td>?</td>\n",
       "      <td>?</td>\n",
       "      <td>?</td>\n",
       "      <td>?</td>\n",
       "      <td>NaN</td>\n",
       "    </tr>\n",
       "  </tbody>\n",
       "</table>\n",
       "</div>"
      ],
      "text/plain": [
       "                    Global_active_power Global_reactive_power Voltage  \\\n",
       "Timestamp                                                               \n",
       "2006-12-21 11:23:00                   ?                     ?       ?   \n",
       "2006-12-21 11:24:00                   ?                     ?       ?   \n",
       "2006-12-30 10:08:00                   ?                     ?       ?   \n",
       "2006-12-30 10:09:00                   ?                     ?       ?   \n",
       "2007-01-14 18:36:00                   ?                     ?       ?   \n",
       "\n",
       "                    Global_intensity Sub_metering_1 Sub_metering_2  \\\n",
       "Timestamp                                                            \n",
       "2006-12-21 11:23:00                ?              ?              ?   \n",
       "2006-12-21 11:24:00                ?              ?              ?   \n",
       "2006-12-30 10:08:00                ?              ?              ?   \n",
       "2006-12-30 10:09:00                ?              ?              ?   \n",
       "2007-01-14 18:36:00                ?              ?              ?   \n",
       "\n",
       "                     Sub_metering_3  \n",
       "Timestamp                            \n",
       "2006-12-21 11:23:00             NaN  \n",
       "2006-12-21 11:24:00             NaN  \n",
       "2006-12-30 10:08:00             NaN  \n",
       "2006-12-30 10:09:00             NaN  \n",
       "2007-01-14 18:36:00             NaN  "
      ]
     },
     "execution_count": 10,
     "metadata": {},
     "output_type": "execute_result"
    }
   ],
   "source": [
    "# having a view of the part of the dataframe with a question mark\n",
    "bad_df = household_df[household_df['Global_active_power'] == '?'] \n",
    "bad_df.head()"
   ]
  },
  {
   "cell_type": "markdown",
   "metadata": {
    "papermill": {
     "duration": 0.036447,
     "end_time": "2020-10-13T10:34:38.047009",
     "exception": false,
     "start_time": "2020-10-13T10:34:38.010562",
     "status": "completed"
    },
    "tags": []
   },
   "source": [
    "#### It seems where ````Sub_metering_3```` has Nan values, the ````Global_active_power```` column has '***?***'. Let's confirm if this is always true."
   ]
  },
  {
   "cell_type": "code",
   "execution_count": 11,
   "metadata": {
    "execution": {
     "iopub.execute_input": "2020-10-13T10:34:38.126744Z",
     "iopub.status.busy": "2020-10-13T10:34:38.126023Z",
     "iopub.status.idle": "2020-10-13T10:34:38.628080Z",
     "shell.execute_reply": "2020-10-13T10:34:38.627554Z"
    },
    "papermill": {
     "duration": 0.544137,
     "end_time": "2020-10-13T10:34:38.628198",
     "exception": false,
     "start_time": "2020-10-13T10:34:38.084061",
     "status": "completed"
    },
    "tags": []
   },
   "outputs": [
    {
     "data": {
      "text/plain": [
       "True"
      ]
     },
     "execution_count": 11,
     "metadata": {},
     "output_type": "execute_result"
    }
   ],
   "source": [
    "bad_df['Sub_metering_3'].isnull().sum() == household_df.isnull().sum()['Sub_metering_3']"
   ]
  },
  {
   "cell_type": "markdown",
   "metadata": {
    "papermill": {
     "duration": 0.036847,
     "end_time": "2020-10-13T10:34:38.702494",
     "exception": false,
     "start_time": "2020-10-13T10:34:38.665647",
     "status": "completed"
    },
    "tags": []
   },
   "source": [
    "#### Let's also confirm that where ````Global_active_power```` has a '***?***', other columns apart from ````Sub_metering_3```` also have a '***?***'"
   ]
  },
  {
   "cell_type": "code",
   "execution_count": 12,
   "metadata": {
    "execution": {
     "iopub.execute_input": "2020-10-13T10:34:38.794584Z",
     "iopub.status.busy": "2020-10-13T10:34:38.793880Z",
     "iopub.status.idle": "2020-10-13T10:34:39.299967Z",
     "shell.execute_reply": "2020-10-13T10:34:39.299110Z"
    },
    "papermill": {
     "duration": 0.560448,
     "end_time": "2020-10-13T10:34:39.300114",
     "exception": false,
     "start_time": "2020-10-13T10:34:38.739666",
     "status": "completed"
    },
    "tags": []
   },
   "outputs": [
    {
     "name": "stdout",
     "output_type": "stream",
     "text": [
      "True\n"
     ]
    },
    {
     "data": {
      "text/plain": [
       "Global_active_power      25979\n",
       "Global_reactive_power    25979\n",
       "Voltage                  25979\n",
       "Global_intensity         25979\n",
       "Sub_metering_1           25979\n",
       "Sub_metering_2           25979\n",
       "dtype: int64"
      ]
     },
     "execution_count": 12,
     "metadata": {},
     "output_type": "execute_result"
    }
   ],
   "source": [
    "is_question_mark = (bad_df[cols[:-1]] == '?')\n",
    "print(is_question_mark.sum().sum() == (len(cols)-1) * household_df.isnull().sum()['Sub_metering_3'])\n",
    "is_question_mark.sum()"
   ]
  },
  {
   "cell_type": "markdown",
   "metadata": {
    "papermill": {
     "duration": 0.038358,
     "end_time": "2020-10-13T10:34:39.377511",
     "exception": false,
     "start_time": "2020-10-13T10:34:39.339153",
     "status": "completed"
    },
    "tags": []
   },
   "source": [
    "#### Haven confirmed that, we can now confidently convert all '***?***' to Nan values"
   ]
  },
  {
   "cell_type": "code",
   "execution_count": 13,
   "metadata": {
    "execution": {
     "iopub.execute_input": "2020-10-13T10:34:39.628915Z",
     "iopub.status.busy": "2020-10-13T10:34:39.628029Z",
     "iopub.status.idle": "2020-10-13T10:34:39.662231Z",
     "shell.execute_reply": "2020-10-13T10:34:39.661701Z"
    },
    "papermill": {
     "duration": 0.246317,
     "end_time": "2020-10-13T10:34:39.662345",
     "exception": false,
     "start_time": "2020-10-13T10:34:39.416028",
     "status": "completed"
    },
    "tags": []
   },
   "outputs": [],
   "source": [
    "household_df.replace('?', np.nan, inplace=True)"
   ]
  },
  {
   "cell_type": "code",
   "execution_count": 14,
   "metadata": {
    "execution": {
     "iopub.execute_input": "2020-10-13T10:34:39.744321Z",
     "iopub.status.busy": "2020-10-13T10:34:39.743702Z",
     "iopub.status.idle": "2020-10-13T10:34:40.254347Z",
     "shell.execute_reply": "2020-10-13T10:34:40.254881Z"
    },
    "papermill": {
     "duration": 0.554058,
     "end_time": "2020-10-13T10:34:40.255034",
     "exception": false,
     "start_time": "2020-10-13T10:34:39.700976",
     "status": "completed"
    },
    "tags": []
   },
   "outputs": [
    {
     "data": {
      "text/plain": [
       "Global_active_power      25979\n",
       "Global_reactive_power    25979\n",
       "Voltage                  25979\n",
       "Global_intensity         25979\n",
       "Sub_metering_1           25979\n",
       "Sub_metering_2           25979\n",
       "Sub_metering_3           25979\n",
       "dtype: int64"
      ]
     },
     "execution_count": 14,
     "metadata": {},
     "output_type": "execute_result"
    }
   ],
   "source": [
    "bool_is_nan = household_df.isnull()\n",
    "bool_is_nan.sum() # checks for Nan values"
   ]
  },
  {
   "cell_type": "code",
   "execution_count": 15,
   "metadata": {
    "execution": {
     "iopub.execute_input": "2020-10-13T10:34:40.336979Z",
     "iopub.status.busy": "2020-10-13T10:34:40.336292Z",
     "iopub.status.idle": "2020-10-13T10:34:40.342575Z",
     "shell.execute_reply": "2020-10-13T10:34:40.341770Z"
    },
    "papermill": {
     "duration": 0.049384,
     "end_time": "2020-10-13T10:34:40.342718",
     "exception": false,
     "start_time": "2020-10-13T10:34:40.293334",
     "status": "completed"
    },
    "tags": []
   },
   "outputs": [
    {
     "name": "stdout",
     "output_type": "stream",
     "text": [
      "we have 1.252% missing values\n"
     ]
    }
   ],
   "source": [
    "print('we have {}% missing values'.format(round(bool_is_nan['Global_active_power'].sum()*100 \\\n",
    "                                          / household_df.shape[0], 3)))"
   ]
  },
  {
   "cell_type": "code",
   "execution_count": 16,
   "metadata": {
    "execution": {
     "iopub.execute_input": "2020-10-13T10:34:40.425945Z",
     "iopub.status.busy": "2020-10-13T10:34:40.425248Z",
     "iopub.status.idle": "2020-10-13T10:34:41.060387Z",
     "shell.execute_reply": "2020-10-13T10:34:41.061118Z"
    },
    "papermill": {
     "duration": 0.679369,
     "end_time": "2020-10-13T10:34:41.061305",
     "exception": false,
     "start_time": "2020-10-13T10:34:40.381936",
     "status": "completed"
    },
    "tags": []
   },
   "outputs": [
    {
     "data": {
      "image/png": "[encoded data removed]",
      "text/plain": [
       "<Figure size 432x288 with 1 Axes>"
      ]
     },
     "metadata": {
      "needs_background": "light"
     },
     "output_type": "display_data"
    }
   ],
   "source": [
    "# checking the distribution of the Nan values\n",
    "hist = plt.hist(household_df[bool_is_nan.sum(axis=1) == household_df.shape[1]].index)"
   ]
  },
  {
   "cell_type": "markdown",
   "metadata": {
    "papermill": {
     "duration": 0.042649,
     "end_time": "2020-10-13T10:34:41.154693",
     "exception": false,
     "start_time": "2020-10-13T10:34:41.112044",
     "status": "completed"
    },
    "tags": []
   },
   "source": [
    "#### We can now safely convert our data type to float"
   ]
  },
  {
   "cell_type": "code",
   "execution_count": 17,
   "metadata": {
    "execution": {
     "iopub.execute_input": "2020-10-13T10:34:41.238170Z",
     "iopub.status.busy": "2020-10-13T10:34:41.237533Z",
     "iopub.status.idle": "2020-10-13T10:34:42.162421Z",
     "shell.execute_reply": "2020-10-13T10:34:42.162913Z"
    },
    "papermill": {
     "duration": 0.968988,
     "end_time": "2020-10-13T10:34:42.163062",
     "exception": false,
     "start_time": "2020-10-13T10:34:41.194074",
     "status": "completed"
    },
    "tags": []
   },
   "outputs": [
    {
     "data": {
      "text/plain": [
       "Global_active_power      float32\n",
       "Global_reactive_power    float32\n",
       "Voltage                  float32\n",
       "Global_intensity         float32\n",
       "Sub_metering_1           float32\n",
       "Sub_metering_2           float32\n",
       "Sub_metering_3           float32\n",
       "dtype: object"
      ]
     },
     "execution_count": 17,
     "metadata": {},
     "output_type": "execute_result"
    }
   ],
   "source": [
    "household_df = household_df.astype(np.float32) \n",
    "household_df.dtypes"
   ]
  },
  {
   "cell_type": "code",
   "execution_count": 18,
   "metadata": {
    "execution": {
     "iopub.execute_input": "2020-10-13T10:34:42.250532Z",
     "iopub.status.busy": "2020-10-13T10:34:42.249908Z",
     "iopub.status.idle": "2020-10-13T10:34:42.254395Z",
     "shell.execute_reply": "2020-10-13T10:34:42.253709Z"
    },
    "papermill": {
     "duration": 0.051357,
     "end_time": "2020-10-13T10:34:42.254580",
     "exception": false,
     "start_time": "2020-10-13T10:34:42.203223",
     "status": "completed"
    },
    "tags": []
   },
   "outputs": [
    {
     "name": "stdout",
     "output_type": "stream",
     "text": [
      "the dataset spans for 1441 days 03:38:00\n"
     ]
    }
   ],
   "source": [
    "print('the dataset spans for {}'.format(household_df.index[-1] - household_df.index[0]))"
   ]
  },
  {
   "cell_type": "code",
   "execution_count": 19,
   "metadata": {
    "execution": {
     "iopub.execute_input": "2020-10-13T10:34:42.340632Z",
     "iopub.status.busy": "2020-10-13T10:34:42.339889Z",
     "iopub.status.idle": "2020-10-13T10:34:42.342642Z",
     "shell.execute_reply": "2020-10-13T10:34:42.342030Z"
    },
    "papermill": {
     "duration": 0.047354,
     "end_time": "2020-10-13T10:34:42.342754",
     "exception": false,
     "start_time": "2020-10-13T10:34:42.295400",
     "status": "completed"
    },
    "tags": []
   },
   "outputs": [],
   "source": [
    "# making a list of all columns\n",
    "cols = list(household_df.columns)\n",
    "\n",
    "# creating the appropriate subplot indices for the cols to be used for making plots\n",
    "ind = list(range(3, 9))"
   ]
  },
  {
   "cell_type": "code",
   "execution_count": 20,
   "metadata": {
    "execution": {
     "iopub.execute_input": "2020-10-13T10:34:42.432591Z",
     "iopub.status.busy": "2020-10-13T10:34:42.431948Z",
     "iopub.status.idle": "2020-10-13T10:34:42.434567Z",
     "shell.execute_reply": "2020-10-13T10:34:42.435011Z"
    },
    "papermill": {
     "duration": 0.052289,
     "end_time": "2020-10-13T10:34:42.435150",
     "exception": false,
     "start_time": "2020-10-13T10:34:42.382861",
     "status": "completed"
    },
    "tags": []
   },
   "outputs": [],
   "source": [
    "# creating a function to nicely plot all the columns in the dataframe\n",
    "def plot_series_of_each_column(d_f, cols=cols[1:], title=None):\n",
    "    fig = plt.figure(figsize=(18, 12))\n",
    "    for i, col in zip(ind, cols):\n",
    "        a = fig.add_subplot(4, 2, i)\n",
    "        plt.ylabel(col)\n",
    "        plt.plot(d_f.index, d_f[col], '-')\n",
    "        if i < 7:\n",
    "            plt.xlabel('')\n",
    "        else:\n",
    "            plt.xlabel('year')\n",
    "        plt.grid()\n",
    "    \n",
    "    a = fig.add_subplot(4, 1, 1)\n",
    "    plt.xlabel('year')\n",
    "    plt.ylabel('Global_active_power')\n",
    "    plt.plot(d_f.index, d_f['Global_active_power'], '-')\n",
    "    \n",
    "    if title:\n",
    "        plt.title(title)\n",
    "        \n",
    "    plt.grid()"
   ]
  },
  {
   "cell_type": "code",
   "execution_count": 21,
   "metadata": {
    "execution": {
     "iopub.execute_input": "2020-10-13T10:34:42.525658Z",
     "iopub.status.busy": "2020-10-13T10:34:42.524974Z",
     "iopub.status.idle": "2020-10-13T10:34:46.089522Z",
     "shell.execute_reply": "2020-10-13T10:34:46.090052Z"
    },
    "papermill": {
     "duration": 3.614305,
     "end_time": "2020-10-13T10:34:46.090194",
     "exception": false,
     "start_time": "2020-10-13T10:34:42.475889",
     "status": "completed"
    },
    "tags": []
   },
   "outputs": [
    {
     "data": {
      "image/png": "[encoded data removed]",
      "text/plain": [
       "<Figure size 1296x864 with 7 Axes>"
      ]
     },
     "metadata": {
      "needs_background": "light"
     },
     "output_type": "display_data"
    }
   ],
   "source": [
    "plot_series_of_each_column(household_df, title='household power consumption')"
   ]
  },
  {
   "cell_type": "markdown",
   "metadata": {
    "papermill": {
     "duration": 0.045024,
     "end_time": "2020-10-13T10:34:46.185907",
     "exception": false,
     "start_time": "2020-10-13T10:34:46.140883",
     "status": "completed"
    },
    "tags": []
   },
   "source": [
    "## Resampling"
   ]
  },
  {
   "cell_type": "markdown",
   "metadata": {
    "papermill": {
     "duration": 0.044255,
     "end_time": "2020-10-13T10:34:46.274883",
     "exception": false,
     "start_time": "2020-10-13T10:34:46.230628",
     "status": "completed"
    },
    "tags": []
   },
   "source": [
    "# We were asked to resample to a daily time frame and fill Nan values with the mean of each column"
   ]
  },
  {
   "cell_type": "code",
   "execution_count": 22,
   "metadata": {
    "execution": {
     "iopub.execute_input": "2020-10-13T10:34:46.368960Z",
     "iopub.status.busy": "2020-10-13T10:34:46.368321Z",
     "iopub.status.idle": "2020-10-13T10:34:46.691808Z",
     "shell.execute_reply": "2020-10-13T10:34:46.690968Z"
    },
    "papermill": {
     "duration": 0.372825,
     "end_time": "2020-10-13T10:34:46.691978",
     "exception": false,
     "start_time": "2020-10-13T10:34:46.319153",
     "status": "completed"
    },
    "tags": []
   },
   "outputs": [
    {
     "name": "stdout",
     "output_type": "stream",
     "text": [
      "household_df has been downsampled from 2075259 observations to 1442\n"
     ]
    }
   ],
   "source": [
    "# resampling\n",
    "daily_household_df = household_df.resample('D').sum()\n",
    "print('household_df has been downsampled from {} observations to {}'.format(household_df.shape[0], \\\n",
    "                                                                            daily_household_df.shape[0]))"
   ]
  },
  {
   "cell_type": "code",
   "execution_count": 23,
   "metadata": {
    "execution": {
     "iopub.execute_input": "2020-10-13T10:34:46.792366Z",
     "iopub.status.busy": "2020-10-13T10:34:46.791532Z",
     "iopub.status.idle": "2020-10-13T10:34:46.794673Z",
     "shell.execute_reply": "2020-10-13T10:34:46.793840Z"
    },
    "papermill": {
     "duration": 0.056641,
     "end_time": "2020-10-13T10:34:46.794814",
     "exception": false,
     "start_time": "2020-10-13T10:34:46.738173",
     "status": "completed"
    },
    "tags": []
   },
   "outputs": [],
   "source": [
    "# mean dict to use for resampling\n",
    "mean_dict = {col: daily_household_df[col].mean() for col in daily_household_df.columns} \n",
    "daily_household_df.fillna(mean_dict, inplace=True) # imputing Nan values"
   ]
  },
  {
   "cell_type": "code",
   "execution_count": 24,
   "metadata": {
    "execution": {
     "iopub.execute_input": "2020-10-13T10:34:46.897643Z",
     "iopub.status.busy": "2020-10-13T10:34:46.896752Z",
     "iopub.status.idle": "2020-10-13T10:34:46.901212Z",
     "shell.execute_reply": "2020-10-13T10:34:46.900616Z"
    },
    "papermill": {
     "duration": 0.055309,
     "end_time": "2020-10-13T10:34:46.901325",
     "exception": false,
     "start_time": "2020-10-13T10:34:46.846016",
     "status": "completed"
    },
    "tags": []
   },
   "outputs": [
    {
     "data": {
      "text/plain": [
       "Global_active_power      0\n",
       "Global_reactive_power    0\n",
       "Voltage                  0\n",
       "Global_intensity         0\n",
       "Sub_metering_1           0\n",
       "Sub_metering_2           0\n",
       "Sub_metering_3           0\n",
       "dtype: int64"
      ]
     },
     "execution_count": 24,
     "metadata": {},
     "output_type": "execute_result"
    }
   ],
   "source": [
    "daily_household_df.isnull().sum() # checking for Nan values in the daily time frame"
   ]
  },
  {
   "cell_type": "code",
   "execution_count": 25,
   "metadata": {
    "execution": {
     "iopub.execute_input": "2020-10-13T10:34:47.004366Z",
     "iopub.status.busy": "2020-10-13T10:34:46.998151Z",
     "iopub.status.idle": "2020-10-13T10:34:48.218581Z",
     "shell.execute_reply": "2020-10-13T10:34:48.219051Z"
    },
    "papermill": {
     "duration": 1.271563,
     "end_time": "2020-10-13T10:34:48.219185",
     "exception": false,
     "start_time": "2020-10-13T10:34:46.947622",
     "status": "completed"
    },
    "tags": []
   },
   "outputs": [
    {
     "data": {
      "image/png": "[encoded data removed]",
      "text/plain": [
       "<Figure size 1296x864 with 7 Axes>"
      ]
     },
     "metadata": {
      "needs_background": "light"
     },
     "output_type": "display_data"
    }
   ],
   "source": [
    "plot_series_of_each_column(daily_household_df, title='daily household power consumption')"
   ]
  },
  {
   "cell_type": "markdown",
   "metadata": {
    "papermill": {
     "duration": 0.049566,
     "end_time": "2020-10-13T10:34:48.318352",
     "exception": false,
     "start_time": "2020-10-13T10:34:48.268786",
     "status": "completed"
    },
    "tags": []
   },
   "source": [
    "## correlation question"
   ]
  },
  {
   "cell_type": "code",
   "execution_count": 26,
   "metadata": {
    "execution": {
     "iopub.execute_input": "2020-10-13T10:34:48.423022Z",
     "iopub.status.busy": "2020-10-13T10:34:48.422357Z",
     "iopub.status.idle": "2020-10-13T10:34:48.429520Z",
     "shell.execute_reply": "2020-10-13T10:34:48.428882Z"
    },
    "papermill": {
     "duration": 0.062255,
     "end_time": "2020-10-13T10:34:48.429655",
     "exception": false,
     "start_time": "2020-10-13T10:34:48.367400",
     "status": "completed"
    },
    "tags": []
   },
   "outputs": [
    {
     "data": {
      "text/plain": [
       "0.12850750684590315"
      ]
     },
     "execution_count": 26,
     "metadata": {},
     "output_type": "execute_result"
    }
   ],
   "source": [
    "daily_household_df['Global_active_power'].corr(daily_household_df['Global_reactive_power'])"
   ]
  },
  {
   "cell_type": "markdown",
   "metadata": {
    "papermill": {
     "duration": 0.050671,
     "end_time": "2020-10-13T10:34:48.531593",
     "exception": false,
     "start_time": "2020-10-13T10:34:48.480922",
     "status": "completed"
    },
    "tags": []
   },
   "source": [
    "## The answer was NOT in the options"
   ]
  },
  {
   "cell_type": "code",
   "execution_count": 27,
   "metadata": {
    "execution": {
     "iopub.execute_input": "2020-10-13T10:34:48.637876Z",
     "iopub.status.busy": "2020-10-13T10:34:48.636970Z",
     "iopub.status.idle": "2020-10-13T10:34:48.641198Z",
     "shell.execute_reply": "2020-10-13T10:34:48.640733Z"
    },
    "papermill": {
     "duration": 0.060128,
     "end_time": "2020-10-13T10:34:48.641313",
     "exception": false,
     "start_time": "2020-10-13T10:34:48.581185",
     "status": "completed"
    },
    "tags": []
   },
   "outputs": [
    {
     "data": {
      "text/plain": [
       "0.2744029161009341"
      ]
     },
     "execution_count": 27,
     "metadata": {},
     "output_type": "execute_result"
    }
   ],
   "source": [
    "daily_household_df['Voltage'].corr(daily_household_df['Global_intensity'])"
   ]
  },
  {
   "cell_type": "markdown",
   "metadata": {
    "papermill": {
     "duration": 0.050115,
     "end_time": "2020-10-13T10:34:48.741771",
     "exception": false,
     "start_time": "2020-10-13T10:34:48.691656",
     "status": "completed"
    },
    "tags": []
   },
   "source": [
    "## The answer was NOT in the options"
   ]
  },
  {
   "cell_type": "code",
   "execution_count": 28,
   "metadata": {
    "execution": {
     "iopub.execute_input": "2020-10-13T10:34:48.891657Z",
     "iopub.status.busy": "2020-10-13T10:34:48.890835Z",
     "iopub.status.idle": "2020-10-13T10:34:48.893565Z",
     "shell.execute_reply": "2020-10-13T10:34:48.893039Z"
    },
    "papermill": {
     "duration": 0.057805,
     "end_time": "2020-10-13T10:34:48.893685",
     "exception": false,
     "start_time": "2020-10-13T10:34:48.835880",
     "status": "completed"
    },
    "tags": []
   },
   "outputs": [],
   "source": [
    "# creating a time series split function\n",
    "def ts_train_test_split(df, split_point):\n",
    "    train, test = df[df.index < split_point], df[df.index >= split_point]\n",
    "    return train, test"
   ]
  },
  {
   "cell_type": "code",
   "execution_count": 29,
   "metadata": {
    "execution": {
     "iopub.execute_input": "2020-10-13T10:34:48.999805Z",
     "iopub.status.busy": "2020-10-13T10:34:48.998992Z",
     "iopub.status.idle": "2020-10-13T10:34:49.001652Z",
     "shell.execute_reply": "2020-10-13T10:34:49.001110Z"
    },
    "papermill": {
     "duration": 0.057666,
     "end_time": "2020-10-13T10:34:49.001772",
     "exception": false,
     "start_time": "2020-10-13T10:34:48.944106",
     "status": "completed"
    },
    "tags": []
   },
   "outputs": [],
   "source": [
    "split_point = daily_household_df.index[-365] # splitting point"
   ]
  },
  {
   "cell_type": "code",
   "execution_count": 30,
   "metadata": {
    "execution": {
     "iopub.execute_input": "2020-10-13T10:34:49.107967Z",
     "iopub.status.busy": "2020-10-13T10:34:49.107305Z",
     "iopub.status.idle": "2020-10-13T10:34:49.115208Z",
     "shell.execute_reply": "2020-10-13T10:34:49.114704Z"
    },
    "papermill": {
     "duration": 0.062846,
     "end_time": "2020-10-13T10:34:49.115330",
     "exception": false,
     "start_time": "2020-10-13T10:34:49.052484",
     "status": "completed"
    },
    "tags": []
   },
   "outputs": [],
   "source": [
    "train1, test1 = ts_train_test_split(daily_household_df, split_point) # splitting the data"
   ]
  },
  {
   "cell_type": "code",
   "execution_count": 31,
   "metadata": {
    "execution": {
     "iopub.execute_input": "2020-10-13T10:34:49.223153Z",
     "iopub.status.busy": "2020-10-13T10:34:49.222531Z",
     "iopub.status.idle": "2020-10-13T10:34:49.376965Z",
     "shell.execute_reply": "2020-10-13T10:34:49.376292Z"
    },
    "papermill": {
     "duration": 0.210391,
     "end_time": "2020-10-13T10:34:49.377086",
     "exception": false,
     "start_time": "2020-10-13T10:34:49.166695",
     "status": "completed"
    },
    "tags": []
   },
   "outputs": [],
   "source": [
    "from fbprophet import Prophet # imports Prophet"
   ]
  },
  {
   "cell_type": "code",
   "execution_count": 32,
   "metadata": {
    "execution": {
     "iopub.execute_input": "2020-10-13T10:34:49.485161Z",
     "iopub.status.busy": "2020-10-13T10:34:49.484231Z",
     "iopub.status.idle": "2020-10-13T10:34:49.487248Z",
     "shell.execute_reply": "2020-10-13T10:34:49.486638Z"
    },
    "papermill": {
     "duration": 0.059255,
     "end_time": "2020-10-13T10:34:49.487355",
     "exception": false,
     "start_time": "2020-10-13T10:34:49.428100",
     "status": "completed"
    },
    "tags": []
   },
   "outputs": [],
   "source": [
    "# creating a function to create the required dataframe for facebook prophet\n",
    "def make_fbprophet_dataframe(time_series):\n",
    "    df = pd.DataFrame({'ds': time_series.index, 'y': time_series.values})\n",
    "    \n",
    "    return df"
   ]
  },
  {
   "cell_type": "code",
   "execution_count": 33,
   "metadata": {
    "execution": {
     "iopub.execute_input": "2020-10-13T10:34:49.594748Z",
     "iopub.status.busy": "2020-10-13T10:34:49.594106Z",
     "iopub.status.idle": "2020-10-13T10:34:49.596813Z",
     "shell.execute_reply": "2020-10-13T10:34:49.596287Z"
    },
    "papermill": {
     "duration": 0.058567,
     "end_time": "2020-10-13T10:34:49.596921",
     "exception": false,
     "start_time": "2020-10-13T10:34:49.538354",
     "status": "completed"
    },
    "tags": []
   },
   "outputs": [],
   "source": [
    "active_power_series = make_fbprophet_dataframe(train1['Global_active_power'])"
   ]
  },
  {
   "cell_type": "code",
   "execution_count": 34,
   "metadata": {
    "execution": {
     "iopub.execute_input": "2020-10-13T10:34:49.704256Z",
     "iopub.status.busy": "2020-10-13T10:34:49.703675Z",
     "iopub.status.idle": "2020-10-13T10:34:53.120582Z",
     "shell.execute_reply": "2020-10-13T10:34:53.119830Z"
    },
    "papermill": {
     "duration": 3.472612,
     "end_time": "2020-10-13T10:34:53.120719",
     "exception": false,
     "start_time": "2020-10-13T10:34:49.648107",
     "status": "completed"
    },
    "tags": []
   },
   "outputs": [],
   "source": [
    "# fitting and predicting univariate time series\n",
    "m1 = Prophet()\n",
    "m1.fit(active_power_series)\n",
    "future1 = m1.make_future_dataframe(periods=365)\n",
    "forecast1 = m1.predict(future1)[-365:]"
   ]
  },
  {
   "cell_type": "code",
   "execution_count": 35,
   "metadata": {
    "execution": {
     "iopub.execute_input": "2020-10-13T10:34:53.229267Z",
     "iopub.status.busy": "2020-10-13T10:34:53.228584Z",
     "iopub.status.idle": "2020-10-13T10:34:53.231983Z",
     "shell.execute_reply": "2020-10-13T10:34:53.232409Z"
    },
    "papermill": {
     "duration": 0.058944,
     "end_time": "2020-10-13T10:34:53.232574",
     "exception": false,
     "start_time": "2020-10-13T10:34:53.173630",
     "status": "completed"
    },
    "tags": []
   },
   "outputs": [
    {
     "data": {
      "text/plain": [
       "(365, 19)"
      ]
     },
     "execution_count": 35,
     "metadata": {},
     "output_type": "execute_result"
    }
   ],
   "source": [
    "forecast1.shape"
   ]
  },
  {
   "cell_type": "code",
   "execution_count": 36,
   "metadata": {
    "execution": {
     "iopub.execute_input": "2020-10-13T10:34:53.341396Z",
     "iopub.status.busy": "2020-10-13T10:34:53.340787Z",
     "iopub.status.idle": "2020-10-13T10:34:53.343314Z",
     "shell.execute_reply": "2020-10-13T10:34:53.343883Z"
    },
    "papermill": {
     "duration": 0.058867,
     "end_time": "2020-10-13T10:34:53.344029",
     "exception": false,
     "start_time": "2020-10-13T10:34:53.285162",
     "status": "completed"
    },
    "tags": []
   },
   "outputs": [],
   "source": [
    "yhat1 = forecast1['yhat'].values # obtaining predictions"
   ]
  },
  {
   "cell_type": "code",
   "execution_count": 37,
   "metadata": {
    "execution": {
     "iopub.execute_input": "2020-10-13T10:34:53.451778Z",
     "iopub.status.busy": "2020-10-13T10:34:53.451016Z",
     "iopub.status.idle": "2020-10-13T10:34:53.537069Z",
     "shell.execute_reply": "2020-10-13T10:34:53.536367Z"
    },
    "papermill": {
     "duration": 0.141602,
     "end_time": "2020-10-13T10:34:53.537190",
     "exception": false,
     "start_time": "2020-10-13T10:34:53.395588",
     "status": "completed"
    },
    "tags": []
   },
   "outputs": [],
   "source": [
    "from sklearn.metrics import mean_squared_error as mse"
   ]
  },
  {
   "cell_type": "code",
   "execution_count": 38,
   "metadata": {
    "execution": {
     "iopub.execute_input": "2020-10-13T10:34:53.646354Z",
     "iopub.status.busy": "2020-10-13T10:34:53.645738Z",
     "iopub.status.idle": "2020-10-13T10:34:53.648398Z",
     "shell.execute_reply": "2020-10-13T10:34:53.647756Z"
    },
    "papermill": {
     "duration": 0.059617,
     "end_time": "2020-10-13T10:34:53.648527",
     "exception": false,
     "start_time": "2020-10-13T10:34:53.588910",
     "status": "completed"
    },
    "tags": []
   },
   "outputs": [],
   "source": [
    "# creating mape function\n",
    "def mape(y_true, y_pred):\n",
    "    y_true1 = y_true[y_true != 0]\n",
    "    y_pred = y_pred[y_true != 0]\n",
    "    error = y_true1 - y_pred\n",
    "    \n",
    "    return (100/y_true1.shape[0]) * np.sum(np.abs(error/y_true1))"
   ]
  },
  {
   "cell_type": "code",
   "execution_count": 39,
   "metadata": {
    "execution": {
     "iopub.execute_input": "2020-10-13T10:34:53.759963Z",
     "iopub.status.busy": "2020-10-13T10:34:53.759035Z",
     "iopub.status.idle": "2020-10-13T10:34:53.762443Z",
     "shell.execute_reply": "2020-10-13T10:34:53.762939Z"
    },
    "papermill": {
     "duration": 0.062519,
     "end_time": "2020-10-13T10:34:53.763080",
     "exception": false,
     "start_time": "2020-10-13T10:34:53.700561",
     "status": "completed"
    },
    "tags": []
   },
   "outputs": [
    {
     "data": {
      "text/plain": [
       "32.82525354558313"
      ]
     },
     "execution_count": 39,
     "metadata": {},
     "output_type": "execute_result"
    }
   ],
   "source": [
    "mape(test1['Global_active_power'], yhat1) # obtaining mape "
   ]
  },
  {
   "cell_type": "markdown",
   "metadata": {
    "papermill": {
     "duration": 0.052306,
     "end_time": "2020-10-13T10:34:53.868510",
     "exception": false,
     "start_time": "2020-10-13T10:34:53.816204",
     "status": "completed"
    },
    "tags": []
   },
   "source": [
    "## The answer was NOT in the options"
   ]
  },
  {
   "cell_type": "code",
   "execution_count": 40,
   "metadata": {
    "execution": {
     "iopub.execute_input": "2020-10-13T10:34:53.980640Z",
     "iopub.status.busy": "2020-10-13T10:34:53.979965Z",
     "iopub.status.idle": "2020-10-13T10:34:53.984253Z",
     "shell.execute_reply": "2020-10-13T10:34:53.983675Z"
    },
    "papermill": {
     "duration": 0.062603,
     "end_time": "2020-10-13T10:34:53.984358",
     "exception": false,
     "start_time": "2020-10-13T10:34:53.921755",
     "status": "completed"
    },
    "tags": []
   },
   "outputs": [
    {
     "data": {
      "text/plain": [
       "440.74469133883184"
      ]
     },
     "execution_count": 40,
     "metadata": {},
     "output_type": "execute_result"
    }
   ],
   "source": [
    "mse(test1['Global_active_power'].values, forecast1['yhat'].values, squared=False) # rmse"
   ]
  },
  {
   "cell_type": "markdown",
   "metadata": {
    "papermill": {
     "duration": 0.052335,
     "end_time": "2020-10-13T10:34:54.102236",
     "exception": false,
     "start_time": "2020-10-13T10:34:54.049901",
     "status": "completed"
    },
    "tags": []
   },
   "source": [
    "## The answer was NOT in the options"
   ]
  },
  {
   "cell_type": "code",
   "execution_count": 41,
   "metadata": {
    "execution": {
     "iopub.execute_input": "2020-10-13T10:34:54.227547Z",
     "iopub.status.busy": "2020-10-13T10:34:54.219887Z",
     "iopub.status.idle": "2020-10-13T10:34:54.232416Z",
     "shell.execute_reply": "2020-10-13T10:34:54.231780Z"
    },
    "papermill": {
     "duration": 0.077343,
     "end_time": "2020-10-13T10:34:54.232555",
     "exception": false,
     "start_time": "2020-10-13T10:34:54.155212",
     "status": "completed"
    },
    "tags": []
   },
   "outputs": [
    {
     "data": {
      "text/html": [
       "<div>\n",
       "<style scoped>\n",
       "    .dataframe tbody tr th:only-of-type {\n",
       "        vertical-align: middle;\n",
       "    }\n",
       "\n",
       "    .dataframe tbody tr th {\n",
       "        vertical-align: top;\n",
       "    }\n",
       "\n",
       "    .dataframe thead th {\n",
       "        text-align: right;\n",
       "    }\n",
       "</style>\n",
       "<table border=\"1\" class=\"dataframe\">\n",
       "  <thead>\n",
       "    <tr style=\"text-align: right;\">\n",
       "      <th></th>\n",
       "      <th>ds</th>\n",
       "      <th>trend</th>\n",
       "      <th>yhat_lower</th>\n",
       "      <th>yhat_upper</th>\n",
       "      <th>trend_lower</th>\n",
       "      <th>trend_upper</th>\n",
       "      <th>additive_terms</th>\n",
       "      <th>additive_terms_lower</th>\n",
       "      <th>additive_terms_upper</th>\n",
       "      <th>weekly</th>\n",
       "      <th>weekly_lower</th>\n",
       "      <th>weekly_upper</th>\n",
       "      <th>yearly</th>\n",
       "      <th>yearly_lower</th>\n",
       "      <th>yearly_upper</th>\n",
       "      <th>multiplicative_terms</th>\n",
       "      <th>multiplicative_terms_lower</th>\n",
       "      <th>multiplicative_terms_upper</th>\n",
       "      <th>yhat</th>\n",
       "    </tr>\n",
       "  </thead>\n",
       "  <tbody>\n",
       "    <tr>\n",
       "      <th>1337</th>\n",
       "      <td>2010-08-14</td>\n",
       "      <td>1576.356146</td>\n",
       "      <td>385.025754</td>\n",
       "      <td>1540.68262</td>\n",
       "      <td>1571.390276</td>\n",
       "      <td>1581.572053</td>\n",
       "      <td>-616.851605</td>\n",
       "      <td>-616.851605</td>\n",
       "      <td>-616.851605</td>\n",
       "      <td>233.450622</td>\n",
       "      <td>233.450622</td>\n",
       "      <td>233.450622</td>\n",
       "      <td>-850.302227</td>\n",
       "      <td>-850.302227</td>\n",
       "      <td>-850.302227</td>\n",
       "      <td>0.0</td>\n",
       "      <td>0.0</td>\n",
       "      <td>0.0</td>\n",
       "      <td>959.50454</td>\n",
       "    </tr>\n",
       "  </tbody>\n",
       "</table>\n",
       "</div>"
      ],
      "text/plain": [
       "             ds        trend  yhat_lower  yhat_upper  trend_lower  \\\n",
       "1337 2010-08-14  1576.356146  385.025754  1540.68262  1571.390276   \n",
       "\n",
       "      trend_upper  additive_terms  additive_terms_lower  additive_terms_upper  \\\n",
       "1337  1581.572053     -616.851605           -616.851605           -616.851605   \n",
       "\n",
       "          weekly  weekly_lower  weekly_upper      yearly  yearly_lower  \\\n",
       "1337  233.450622    233.450622    233.450622 -850.302227   -850.302227   \n",
       "\n",
       "      yearly_upper  multiplicative_terms  multiplicative_terms_lower  \\\n",
       "1337   -850.302227                   0.0                         0.0   \n",
       "\n",
       "      multiplicative_terms_upper       yhat  \n",
       "1337                         0.0  959.50454  "
      ]
     },
     "execution_count": 41,
     "metadata": {},
     "output_type": "execute_result"
    }
   ],
   "source": [
    "# checking month with minimal seasonality  for approach1\n",
    "forecast1[forecast1['yearly'] == forecast1['yearly'].min()] "
   ]
  },
  {
   "cell_type": "code",
   "execution_count": 42,
   "metadata": {
    "execution": {
     "iopub.execute_input": "2020-10-13T10:34:54.345323Z",
     "iopub.status.busy": "2020-10-13T10:34:54.344461Z",
     "iopub.status.idle": "2020-10-13T10:34:54.347196Z",
     "shell.execute_reply": "2020-10-13T10:34:54.346591Z"
    },
    "papermill": {
     "duration": 0.06074,
     "end_time": "2020-10-13T10:34:54.347306",
     "exception": false,
     "start_time": "2020-10-13T10:34:54.286566",
     "status": "completed"
    },
    "tags": []
   },
   "outputs": [],
   "source": [
    "# creating a dictionary for renaming the columns for a multivariate time series\n",
    "add = {'Global_reactive_power': 'add1', 'Voltage': 'add2', 'Global_intensity': 'add3', 'Sub_metering_1': 'add4',\\\n",
    " 'Sub_metering_2': 'add5', 'Sub_metering_3': 'add6'}"
   ]
  },
  {
   "cell_type": "code",
   "execution_count": 43,
   "metadata": {
    "execution": {
     "iopub.execute_input": "2020-10-13T10:34:54.460712Z",
     "iopub.status.busy": "2020-10-13T10:34:54.460069Z",
     "iopub.status.idle": "2020-10-13T10:34:54.462841Z",
     "shell.execute_reply": "2020-10-13T10:34:54.462186Z"
    },
    "papermill": {
     "duration": 0.061959,
     "end_time": "2020-10-13T10:34:54.462952",
     "exception": false,
     "start_time": "2020-10-13T10:34:54.400993",
     "status": "completed"
    },
    "tags": []
   },
   "outputs": [],
   "source": [
    "daily_household_df2 = daily_household_df.rename(columns=add)"
   ]
  },
  {
   "cell_type": "code",
   "execution_count": 44,
   "metadata": {
    "execution": {
     "iopub.execute_input": "2020-10-13T10:34:54.583109Z",
     "iopub.status.busy": "2020-10-13T10:34:54.582199Z",
     "iopub.status.idle": "2020-10-13T10:34:54.586087Z",
     "shell.execute_reply": "2020-10-13T10:34:54.585512Z"
    },
    "papermill": {
     "duration": 0.069558,
     "end_time": "2020-10-13T10:34:54.586190",
     "exception": false,
     "start_time": "2020-10-13T10:34:54.516632",
     "status": "completed"
    },
    "tags": []
   },
   "outputs": [
    {
     "data": {
      "text/html": [
       "<div>\n",
       "<style scoped>\n",
       "    .dataframe tbody tr th:only-of-type {\n",
       "        vertical-align: middle;\n",
       "    }\n",
       "\n",
       "    .dataframe tbody tr th {\n",
       "        vertical-align: top;\n",
       "    }\n",
       "\n",
       "    .dataframe thead th {\n",
       "        text-align: right;\n",
       "    }\n",
       "</style>\n",
       "<table border=\"1\" class=\"dataframe\">\n",
       "  <thead>\n",
       "    <tr style=\"text-align: right;\">\n",
       "      <th></th>\n",
       "      <th>Global_active_power</th>\n",
       "      <th>add1</th>\n",
       "      <th>add2</th>\n",
       "      <th>add3</th>\n",
       "      <th>add4</th>\n",
       "      <th>add5</th>\n",
       "      <th>add6</th>\n",
       "    </tr>\n",
       "    <tr>\n",
       "      <th>Timestamp</th>\n",
       "      <th></th>\n",
       "      <th></th>\n",
       "      <th></th>\n",
       "      <th></th>\n",
       "      <th></th>\n",
       "      <th></th>\n",
       "      <th></th>\n",
       "    </tr>\n",
       "  </thead>\n",
       "  <tbody>\n",
       "    <tr>\n",
       "      <th>2006-12-16</th>\n",
       "      <td>1209.176025</td>\n",
       "      <td>34.922001</td>\n",
       "      <td>93552.53125</td>\n",
       "      <td>5180.799805</td>\n",
       "      <td>0.0</td>\n",
       "      <td>546.0</td>\n",
       "      <td>4926.0</td>\n",
       "    </tr>\n",
       "    <tr>\n",
       "      <th>2006-12-17</th>\n",
       "      <td>3390.459961</td>\n",
       "      <td>226.005997</td>\n",
       "      <td>345725.31250</td>\n",
       "      <td>14398.599609</td>\n",
       "      <td>2033.0</td>\n",
       "      <td>4187.0</td>\n",
       "      <td>13341.0</td>\n",
       "    </tr>\n",
       "    <tr>\n",
       "      <th>2006-12-18</th>\n",
       "      <td>2203.825928</td>\n",
       "      <td>161.792007</td>\n",
       "      <td>347373.62500</td>\n",
       "      <td>9247.200195</td>\n",
       "      <td>1063.0</td>\n",
       "      <td>2621.0</td>\n",
       "      <td>14018.0</td>\n",
       "    </tr>\n",
       "    <tr>\n",
       "      <th>2006-12-19</th>\n",
       "      <td>1666.193970</td>\n",
       "      <td>150.942001</td>\n",
       "      <td>348479.00000</td>\n",
       "      <td>7094.000000</td>\n",
       "      <td>839.0</td>\n",
       "      <td>7602.0</td>\n",
       "      <td>6197.0</td>\n",
       "    </tr>\n",
       "    <tr>\n",
       "      <th>2006-12-20</th>\n",
       "      <td>2225.748047</td>\n",
       "      <td>160.998001</td>\n",
       "      <td>348923.62500</td>\n",
       "      <td>9313.000000</td>\n",
       "      <td>0.0</td>\n",
       "      <td>2648.0</td>\n",
       "      <td>14063.0</td>\n",
       "    </tr>\n",
       "  </tbody>\n",
       "</table>\n",
       "</div>"
      ],
      "text/plain": [
       "            Global_active_power        add1          add2          add3  \\\n",
       "Timestamp                                                                 \n",
       "2006-12-16          1209.176025   34.922001   93552.53125   5180.799805   \n",
       "2006-12-17          3390.459961  226.005997  345725.31250  14398.599609   \n",
       "2006-12-18          2203.825928  161.792007  347373.62500   9247.200195   \n",
       "2006-12-19          1666.193970  150.942001  348479.00000   7094.000000   \n",
       "2006-12-20          2225.748047  160.998001  348923.62500   9313.000000   \n",
       "\n",
       "              add4    add5     add6  \n",
       "Timestamp                            \n",
       "2006-12-16     0.0   546.0   4926.0  \n",
       "2006-12-17  2033.0  4187.0  13341.0  \n",
       "2006-12-18  1063.0  2621.0  14018.0  \n",
       "2006-12-19   839.0  7602.0   6197.0  \n",
       "2006-12-20     0.0  2648.0  14063.0  "
      ]
     },
     "execution_count": 44,
     "metadata": {},
     "output_type": "execute_result"
    }
   ],
   "source": [
    "daily_household_df2.head()"
   ]
  },
  {
   "cell_type": "code",
   "execution_count": 45,
   "metadata": {
    "execution": {
     "iopub.execute_input": "2020-10-13T10:34:54.699123Z",
     "iopub.status.busy": "2020-10-13T10:34:54.698319Z",
     "iopub.status.idle": "2020-10-13T10:34:54.700959Z",
     "shell.execute_reply": "2020-10-13T10:34:54.701375Z"
    },
    "papermill": {
     "duration": 0.061861,
     "end_time": "2020-10-13T10:34:54.701532",
     "exception": false,
     "start_time": "2020-10-13T10:34:54.639671",
     "status": "completed"
    },
    "tags": []
   },
   "outputs": [],
   "source": [
    "train2, test2 = ts_train_test_split(daily_household_df2, split_point) # splitting the data into train and test"
   ]
  },
  {
   "cell_type": "code",
   "execution_count": 46,
   "metadata": {
    "execution": {
     "iopub.execute_input": "2020-10-13T10:34:54.816912Z",
     "iopub.status.busy": "2020-10-13T10:34:54.816062Z",
     "iopub.status.idle": "2020-10-13T10:34:54.818836Z",
     "shell.execute_reply": "2020-10-13T10:34:54.818184Z"
    },
    "papermill": {
     "duration": 0.064084,
     "end_time": "2020-10-13T10:34:54.818947",
     "exception": false,
     "start_time": "2020-10-13T10:34:54.754863",
     "status": "completed"
    },
    "tags": []
   },
   "outputs": [],
   "source": [
    "# adding the 'add' columns to 'active_power_series' to use for multivariate time series\n",
    "for col in list(add.values()):\n",
    "    active_power_series[col] = train2[col].values"
   ]
  },
  {
   "cell_type": "code",
   "execution_count": 47,
   "metadata": {
    "execution": {
     "iopub.execute_input": "2020-10-13T10:34:54.944103Z",
     "iopub.status.busy": "2020-10-13T10:34:54.943244Z",
     "iopub.status.idle": "2020-10-13T10:34:54.947561Z",
     "shell.execute_reply": "2020-10-13T10:34:54.947064Z"
    },
    "papermill": {
     "duration": 0.073596,
     "end_time": "2020-10-13T10:34:54.947679",
     "exception": false,
     "start_time": "2020-10-13T10:34:54.874083",
     "status": "completed"
    },
    "tags": []
   },
   "outputs": [
    {
     "data": {
      "text/html": [
       "<div>\n",
       "<style scoped>\n",
       "    .dataframe tbody tr th:only-of-type {\n",
       "        vertical-align: middle;\n",
       "    }\n",
       "\n",
       "    .dataframe tbody tr th {\n",
       "        vertical-align: top;\n",
       "    }\n",
       "\n",
       "    .dataframe thead th {\n",
       "        text-align: right;\n",
       "    }\n",
       "</style>\n",
       "<table border=\"1\" class=\"dataframe\">\n",
       "  <thead>\n",
       "    <tr style=\"text-align: right;\">\n",
       "      <th></th>\n",
       "      <th>ds</th>\n",
       "      <th>y</th>\n",
       "      <th>add1</th>\n",
       "      <th>add2</th>\n",
       "      <th>add3</th>\n",
       "      <th>add4</th>\n",
       "      <th>add5</th>\n",
       "      <th>add6</th>\n",
       "    </tr>\n",
       "  </thead>\n",
       "  <tbody>\n",
       "    <tr>\n",
       "      <th>0</th>\n",
       "      <td>2006-12-16</td>\n",
       "      <td>1209.176025</td>\n",
       "      <td>34.922001</td>\n",
       "      <td>93552.53125</td>\n",
       "      <td>5180.799805</td>\n",
       "      <td>0.0</td>\n",
       "      <td>546.0</td>\n",
       "      <td>4926.0</td>\n",
       "    </tr>\n",
       "    <tr>\n",
       "      <th>1</th>\n",
       "      <td>2006-12-17</td>\n",
       "      <td>3390.459961</td>\n",
       "      <td>226.005997</td>\n",
       "      <td>345725.31250</td>\n",
       "      <td>14398.599609</td>\n",
       "      <td>2033.0</td>\n",
       "      <td>4187.0</td>\n",
       "      <td>13341.0</td>\n",
       "    </tr>\n",
       "    <tr>\n",
       "      <th>2</th>\n",
       "      <td>2006-12-18</td>\n",
       "      <td>2203.825928</td>\n",
       "      <td>161.792007</td>\n",
       "      <td>347373.62500</td>\n",
       "      <td>9247.200195</td>\n",
       "      <td>1063.0</td>\n",
       "      <td>2621.0</td>\n",
       "      <td>14018.0</td>\n",
       "    </tr>\n",
       "    <tr>\n",
       "      <th>3</th>\n",
       "      <td>2006-12-19</td>\n",
       "      <td>1666.193970</td>\n",
       "      <td>150.942001</td>\n",
       "      <td>348479.00000</td>\n",
       "      <td>7094.000000</td>\n",
       "      <td>839.0</td>\n",
       "      <td>7602.0</td>\n",
       "      <td>6197.0</td>\n",
       "    </tr>\n",
       "    <tr>\n",
       "      <th>4</th>\n",
       "      <td>2006-12-20</td>\n",
       "      <td>2225.748047</td>\n",
       "      <td>160.998001</td>\n",
       "      <td>348923.62500</td>\n",
       "      <td>9313.000000</td>\n",
       "      <td>0.0</td>\n",
       "      <td>2648.0</td>\n",
       "      <td>14063.0</td>\n",
       "    </tr>\n",
       "  </tbody>\n",
       "</table>\n",
       "</div>"
      ],
      "text/plain": [
       "          ds            y        add1          add2          add3    add4  \\\n",
       "0 2006-12-16  1209.176025   34.922001   93552.53125   5180.799805     0.0   \n",
       "1 2006-12-17  3390.459961  226.005997  345725.31250  14398.599609  2033.0   \n",
       "2 2006-12-18  2203.825928  161.792007  347373.62500   9247.200195  1063.0   \n",
       "3 2006-12-19  1666.193970  150.942001  348479.00000   7094.000000   839.0   \n",
       "4 2006-12-20  2225.748047  160.998001  348923.62500   9313.000000     0.0   \n",
       "\n",
       "     add5     add6  \n",
       "0   546.0   4926.0  \n",
       "1  4187.0  13341.0  \n",
       "2  2621.0  14018.0  \n",
       "3  7602.0   6197.0  \n",
       "4  2648.0  14063.0  "
      ]
     },
     "execution_count": 47,
     "metadata": {},
     "output_type": "execute_result"
    }
   ],
   "source": [
    "active_power_series.head()"
   ]
  },
  {
   "cell_type": "code",
   "execution_count": 48,
   "metadata": {
    "execution": {
     "iopub.execute_input": "2020-10-13T10:34:55.067689Z",
     "iopub.status.busy": "2020-10-13T10:34:55.067044Z",
     "iopub.status.idle": "2020-10-13T10:34:58.044546Z",
     "shell.execute_reply": "2020-10-13T10:34:58.044020Z"
    },
    "papermill": {
     "duration": 3.042136,
     "end_time": "2020-10-13T10:34:58.044668",
     "exception": false,
     "start_time": "2020-10-13T10:34:55.002532",
     "status": "completed"
    },
    "tags": []
   },
   "outputs": [
    {
     "data": {
      "text/plain": [
       "<fbprophet.forecaster.Prophet at 0x7f18be42f890>"
      ]
     },
     "execution_count": 48,
     "metadata": {},
     "output_type": "execute_result"
    }
   ],
   "source": [
    "# adding 'add' columns as regressors and fitting them\n",
    "m2 = Prophet()\n",
    "for reg in add.values():\n",
    "    m2.add_regressor(reg)\n",
    "m2.fit(active_power_series)"
   ]
  },
  {
   "cell_type": "code",
   "execution_count": 49,
   "metadata": {
    "execution": {
     "iopub.execute_input": "2020-10-13T10:34:58.172827Z",
     "iopub.status.busy": "2020-10-13T10:34:58.172035Z",
     "iopub.status.idle": "2020-10-13T10:34:58.179757Z",
     "shell.execute_reply": "2020-10-13T10:34:58.179261Z"
    },
    "papermill": {
     "duration": 0.072733,
     "end_time": "2020-10-13T10:34:58.179872",
     "exception": false,
     "start_time": "2020-10-13T10:34:58.107139",
     "status": "completed"
    },
    "tags": []
   },
   "outputs": [],
   "source": [
    "# creating the test dataframe \n",
    "test2 = test2.reset_index().rename(columns={'Timestamp': 'ds'}).drop('Global_active_power', axis=1)"
   ]
  },
  {
   "cell_type": "code",
   "execution_count": 50,
   "metadata": {
    "execution": {
     "iopub.execute_input": "2020-10-13T10:34:58.337069Z",
     "iopub.status.busy": "2020-10-13T10:34:58.322748Z",
     "iopub.status.idle": "2020-10-13T10:35:00.377323Z",
     "shell.execute_reply": "2020-10-13T10:35:00.376812Z"
    },
    "papermill": {
     "duration": 2.134822,
     "end_time": "2020-10-13T10:35:00.377461",
     "exception": false,
     "start_time": "2020-10-13T10:34:58.242639",
     "status": "completed"
    },
    "tags": []
   },
   "outputs": [],
   "source": [
    "forecast2 = m2.predict(test2) # forecasts the test data"
   ]
  },
  {
   "cell_type": "code",
   "execution_count": 51,
   "metadata": {
    "execution": {
     "iopub.execute_input": "2020-10-13T10:35:00.513376Z",
     "iopub.status.busy": "2020-10-13T10:35:00.493588Z",
     "iopub.status.idle": "2020-10-13T10:35:00.517699Z",
     "shell.execute_reply": "2020-10-13T10:35:00.517214Z"
    },
    "papermill": {
     "duration": 0.085358,
     "end_time": "2020-10-13T10:35:00.517817",
     "exception": false,
     "start_time": "2020-10-13T10:35:00.432459",
     "status": "completed"
    },
    "tags": []
   },
   "outputs": [
    {
     "data": {
      "text/html": [
       "<div>\n",
       "<style scoped>\n",
       "    .dataframe tbody tr th:only-of-type {\n",
       "        vertical-align: middle;\n",
       "    }\n",
       "\n",
       "    .dataframe tbody tr th {\n",
       "        vertical-align: top;\n",
       "    }\n",
       "\n",
       "    .dataframe thead th {\n",
       "        text-align: right;\n",
       "    }\n",
       "</style>\n",
       "<table border=\"1\" class=\"dataframe\">\n",
       "  <thead>\n",
       "    <tr style=\"text-align: right;\">\n",
       "      <th></th>\n",
       "      <th>ds</th>\n",
       "      <th>trend</th>\n",
       "      <th>yhat_lower</th>\n",
       "      <th>yhat_upper</th>\n",
       "      <th>trend_lower</th>\n",
       "      <th>trend_upper</th>\n",
       "      <th>add1</th>\n",
       "      <th>add1_lower</th>\n",
       "      <th>add1_upper</th>\n",
       "      <th>add2</th>\n",
       "      <th>...</th>\n",
       "      <th>weekly</th>\n",
       "      <th>weekly_lower</th>\n",
       "      <th>weekly_upper</th>\n",
       "      <th>yearly</th>\n",
       "      <th>yearly_lower</th>\n",
       "      <th>yearly_upper</th>\n",
       "      <th>multiplicative_terms</th>\n",
       "      <th>multiplicative_terms_lower</th>\n",
       "      <th>multiplicative_terms_upper</th>\n",
       "      <th>yhat</th>\n",
       "    </tr>\n",
       "  </thead>\n",
       "  <tbody>\n",
       "    <tr>\n",
       "      <th>0</th>\n",
       "      <td>2009-11-27</td>\n",
       "      <td>1587.588455</td>\n",
       "      <td>1365.242356</td>\n",
       "      <td>1396.967577</td>\n",
       "      <td>1587.588455</td>\n",
       "      <td>1587.588455</td>\n",
       "      <td>7.084046</td>\n",
       "      <td>7.084046</td>\n",
       "      <td>7.084046</td>\n",
       "      <td>-0.041236</td>\n",
       "      <td>...</td>\n",
       "      <td>0.016816</td>\n",
       "      <td>0.016816</td>\n",
       "      <td>0.016816</td>\n",
       "      <td>3.416530</td>\n",
       "      <td>3.416530</td>\n",
       "      <td>3.416530</td>\n",
       "      <td>0.0</td>\n",
       "      <td>0.0</td>\n",
       "      <td>0.0</td>\n",
       "      <td>1381.287368</td>\n",
       "    </tr>\n",
       "    <tr>\n",
       "      <th>1</th>\n",
       "      <td>2009-11-28</td>\n",
       "      <td>1587.707377</td>\n",
       "      <td>1845.569450</td>\n",
       "      <td>1879.802568</td>\n",
       "      <td>1587.707377</td>\n",
       "      <td>1587.707377</td>\n",
       "      <td>-8.705477</td>\n",
       "      <td>-8.705477</td>\n",
       "      <td>-8.705477</td>\n",
       "      <td>-0.037339</td>\n",
       "      <td>...</td>\n",
       "      <td>0.801318</td>\n",
       "      <td>0.801318</td>\n",
       "      <td>0.801318</td>\n",
       "      <td>3.721541</td>\n",
       "      <td>3.721541</td>\n",
       "      <td>3.721541</td>\n",
       "      <td>0.0</td>\n",
       "      <td>0.0</td>\n",
       "      <td>0.0</td>\n",
       "      <td>1861.768372</td>\n",
       "    </tr>\n",
       "    <tr>\n",
       "      <th>2</th>\n",
       "      <td>2009-11-29</td>\n",
       "      <td>1587.826300</td>\n",
       "      <td>1627.353732</td>\n",
       "      <td>1659.887889</td>\n",
       "      <td>1587.826300</td>\n",
       "      <td>1587.826300</td>\n",
       "      <td>-2.852974</td>\n",
       "      <td>-2.852974</td>\n",
       "      <td>-2.852974</td>\n",
       "      <td>-0.062768</td>\n",
       "      <td>...</td>\n",
       "      <td>0.159816</td>\n",
       "      <td>0.159816</td>\n",
       "      <td>0.159816</td>\n",
       "      <td>4.061333</td>\n",
       "      <td>4.061333</td>\n",
       "      <td>4.061333</td>\n",
       "      <td>0.0</td>\n",
       "      <td>0.0</td>\n",
       "      <td>0.0</td>\n",
       "      <td>1643.951480</td>\n",
       "    </tr>\n",
       "    <tr>\n",
       "      <th>3</th>\n",
       "      <td>2009-11-30</td>\n",
       "      <td>1587.945223</td>\n",
       "      <td>1724.125766</td>\n",
       "      <td>1758.142508</td>\n",
       "      <td>1587.945223</td>\n",
       "      <td>1587.945223</td>\n",
       "      <td>3.601189</td>\n",
       "      <td>3.601189</td>\n",
       "      <td>3.601189</td>\n",
       "      <td>-0.069534</td>\n",
       "      <td>...</td>\n",
       "      <td>-0.206837</td>\n",
       "      <td>-0.206837</td>\n",
       "      <td>-0.206837</td>\n",
       "      <td>4.442374</td>\n",
       "      <td>4.442374</td>\n",
       "      <td>4.442374</td>\n",
       "      <td>0.0</td>\n",
       "      <td>0.0</td>\n",
       "      <td>0.0</td>\n",
       "      <td>1742.042608</td>\n",
       "    </tr>\n",
       "    <tr>\n",
       "      <th>4</th>\n",
       "      <td>2009-12-01</td>\n",
       "      <td>1588.064146</td>\n",
       "      <td>1746.081725</td>\n",
       "      <td>1779.599435</td>\n",
       "      <td>1588.064146</td>\n",
       "      <td>1588.064146</td>\n",
       "      <td>5.572697</td>\n",
       "      <td>5.572697</td>\n",
       "      <td>5.572697</td>\n",
       "      <td>-0.052735</td>\n",
       "      <td>...</td>\n",
       "      <td>-1.537391</td>\n",
       "      <td>-1.537391</td>\n",
       "      <td>-1.537391</td>\n",
       "      <td>4.870384</td>\n",
       "      <td>4.870384</td>\n",
       "      <td>4.870384</td>\n",
       "      <td>0.0</td>\n",
       "      <td>0.0</td>\n",
       "      <td>0.0</td>\n",
       "      <td>1762.202367</td>\n",
       "    </tr>\n",
       "  </tbody>\n",
       "</table>\n",
       "<p>5 rows × 40 columns</p>\n",
       "</div>"
      ],
      "text/plain": [
       "          ds        trend   yhat_lower   yhat_upper  trend_lower  trend_upper  \\\n",
       "0 2009-11-27  1587.588455  1365.242356  1396.967577  1587.588455  1587.588455   \n",
       "1 2009-11-28  1587.707377  1845.569450  1879.802568  1587.707377  1587.707377   \n",
       "2 2009-11-29  1587.826300  1627.353732  1659.887889  1587.826300  1587.826300   \n",
       "3 2009-11-30  1587.945223  1724.125766  1758.142508  1587.945223  1587.945223   \n",
       "4 2009-12-01  1588.064146  1746.081725  1779.599435  1588.064146  1588.064146   \n",
       "\n",
       "       add1  add1_lower  add1_upper      add2  ...    weekly  weekly_lower  \\\n",
       "0  7.084046    7.084046    7.084046 -0.041236  ...  0.016816      0.016816   \n",
       "1 -8.705477   -8.705477   -8.705477 -0.037339  ...  0.801318      0.801318   \n",
       "2 -2.852974   -2.852974   -2.852974 -0.062768  ...  0.159816      0.159816   \n",
       "3  3.601189    3.601189    3.601189 -0.069534  ... -0.206837     -0.206837   \n",
       "4  5.572697    5.572697    5.572697 -0.052735  ... -1.537391     -1.537391   \n",
       "\n",
       "   weekly_upper    yearly  yearly_lower  yearly_upper  multiplicative_terms  \\\n",
       "0      0.016816  3.416530      3.416530      3.416530                   0.0   \n",
       "1      0.801318  3.721541      3.721541      3.721541                   0.0   \n",
       "2      0.159816  4.061333      4.061333      4.061333                   0.0   \n",
       "3     -0.206837  4.442374      4.442374      4.442374                   0.0   \n",
       "4     -1.537391  4.870384      4.870384      4.870384                   0.0   \n",
       "\n",
       "   multiplicative_terms_lower  multiplicative_terms_upper         yhat  \n",
       "0                         0.0                         0.0  1381.287368  \n",
       "1                         0.0                         0.0  1861.768372  \n",
       "2                         0.0                         0.0  1643.951480  \n",
       "3                         0.0                         0.0  1742.042608  \n",
       "4                         0.0                         0.0  1762.202367  \n",
       "\n",
       "[5 rows x 40 columns]"
      ]
     },
     "execution_count": 51,
     "metadata": {},
     "output_type": "execute_result"
    }
   ],
   "source": [
    "forecast2.head()"
   ]
  },
  {
   "cell_type": "code",
   "execution_count": 52,
   "metadata": {
    "execution": {
     "iopub.execute_input": "2020-10-13T10:35:00.634650Z",
     "iopub.status.busy": "2020-10-13T10:35:00.633995Z",
     "iopub.status.idle": "2020-10-13T10:35:00.636852Z",
     "shell.execute_reply": "2020-10-13T10:35:00.636247Z"
    },
    "papermill": {
     "duration": 0.063002,
     "end_time": "2020-10-13T10:35:00.636965",
     "exception": false,
     "start_time": "2020-10-13T10:35:00.573963",
     "status": "completed"
    },
    "tags": []
   },
   "outputs": [],
   "source": [
    "yhat2 = forecast2['yhat'] # pulling out the forecasts"
   ]
  },
  {
   "cell_type": "code",
   "execution_count": 53,
   "metadata": {
    "execution": {
     "iopub.execute_input": "2020-10-13T10:35:00.754226Z",
     "iopub.status.busy": "2020-10-13T10:35:00.753551Z",
     "iopub.status.idle": "2020-10-13T10:35:00.757640Z",
     "shell.execute_reply": "2020-10-13T10:35:00.758173Z"
    },
    "papermill": {
     "duration": 0.065512,
     "end_time": "2020-10-13T10:35:00.758307",
     "exception": false,
     "start_time": "2020-10-13T10:35:00.692795",
     "status": "completed"
    },
    "tags": []
   },
   "outputs": [
    {
     "data": {
      "text/plain": [
       "3.0082359032295782"
      ]
     },
     "execution_count": 53,
     "metadata": {},
     "output_type": "execute_result"
    }
   ],
   "source": [
    "mape(test1['Global_active_power'].values, yhat2.values) # evaluating mape of the predictions"
   ]
  },
  {
   "cell_type": "markdown",
   "metadata": {
    "papermill": {
     "duration": 0.056411,
     "end_time": "2020-10-13T10:35:00.871312",
     "exception": false,
     "start_time": "2020-10-13T10:35:00.814901",
     "status": "completed"
    },
    "tags": []
   },
   "source": [
    "## The answer was NOT in the options"
   ]
  },
  {
   "cell_type": "code",
   "execution_count": 54,
   "metadata": {
    "execution": {
     "iopub.execute_input": "2020-10-13T10:35:00.990477Z",
     "iopub.status.busy": "2020-10-13T10:35:00.989700Z",
     "iopub.status.idle": "2020-10-13T10:35:00.993703Z",
     "shell.execute_reply": "2020-10-13T10:35:00.993207Z"
    },
    "papermill": {
     "duration": 0.066167,
     "end_time": "2020-10-13T10:35:00.993830",
     "exception": false,
     "start_time": "2020-10-13T10:35:00.927663",
     "status": "completed"
    },
    "tags": []
   },
   "outputs": [
    {
     "data": {
      "text/plain": [
       "39.06983879154409"
      ]
     },
     "execution_count": 54,
     "metadata": {},
     "output_type": "execute_result"
    }
   ],
   "source": [
    "mse(test1['Global_active_power'].values, yhat2.values, squared=False) # evaluating rmse of the predictions"
   ]
  },
  {
   "cell_type": "markdown",
   "metadata": {
    "papermill": {
     "duration": 0.056647,
     "end_time": "2020-10-13T10:35:01.109633",
     "exception": false,
     "start_time": "2020-10-13T10:35:01.052986",
     "status": "completed"
    },
    "tags": []
   },
   "source": [
    "## The answer was NOT in the options"
   ]
  },
  {
   "cell_type": "code",
   "execution_count": 55,
   "metadata": {
    "execution": {
     "iopub.execute_input": "2020-10-13T10:35:01.237917Z",
     "iopub.status.busy": "2020-10-13T10:35:01.229565Z",
     "iopub.status.idle": "2020-10-13T10:35:01.251802Z",
     "shell.execute_reply": "2020-10-13T10:35:01.251136Z"
    },
    "papermill": {
     "duration": 0.084964,
     "end_time": "2020-10-13T10:35:01.251915",
     "exception": false,
     "start_time": "2020-10-13T10:35:01.166951",
     "status": "completed"
    },
    "tags": []
   },
   "outputs": [
    {
     "data": {
      "text/html": [
       "<div>\n",
       "<style scoped>\n",
       "    .dataframe tbody tr th:only-of-type {\n",
       "        vertical-align: middle;\n",
       "    }\n",
       "\n",
       "    .dataframe tbody tr th {\n",
       "        vertical-align: top;\n",
       "    }\n",
       "\n",
       "    .dataframe thead th {\n",
       "        text-align: right;\n",
       "    }\n",
       "</style>\n",
       "<table border=\"1\" class=\"dataframe\">\n",
       "  <thead>\n",
       "    <tr style=\"text-align: right;\">\n",
       "      <th></th>\n",
       "      <th>ds</th>\n",
       "      <th>trend</th>\n",
       "      <th>yhat_lower</th>\n",
       "      <th>yhat_upper</th>\n",
       "      <th>trend_lower</th>\n",
       "      <th>trend_upper</th>\n",
       "      <th>add1</th>\n",
       "      <th>add1_lower</th>\n",
       "      <th>add1_upper</th>\n",
       "      <th>add2</th>\n",
       "      <th>...</th>\n",
       "      <th>weekly</th>\n",
       "      <th>weekly_lower</th>\n",
       "      <th>weekly_upper</th>\n",
       "      <th>yearly</th>\n",
       "      <th>yearly_lower</th>\n",
       "      <th>yearly_upper</th>\n",
       "      <th>multiplicative_terms</th>\n",
       "      <th>multiplicative_terms_lower</th>\n",
       "      <th>multiplicative_terms_upper</th>\n",
       "      <th>yhat</th>\n",
       "    </tr>\n",
       "  </thead>\n",
       "  <tbody>\n",
       "    <tr>\n",
       "      <th>207</th>\n",
       "      <td>2010-06-22</td>\n",
       "      <td>1612.2055</td>\n",
       "      <td>1442.965118</td>\n",
       "      <td>1706.615903</td>\n",
       "      <td>1473.285752</td>\n",
       "      <td>1733.623203</td>\n",
       "      <td>-6.001424</td>\n",
       "      <td>-6.001424</td>\n",
       "      <td>-6.001424</td>\n",
       "      <td>-0.023802</td>\n",
       "      <td>...</td>\n",
       "      <td>-1.537391</td>\n",
       "      <td>-1.537391</td>\n",
       "      <td>-1.537391</td>\n",
       "      <td>-7.755132</td>\n",
       "      <td>-7.755132</td>\n",
       "      <td>-7.755132</td>\n",
       "      <td>0.0</td>\n",
       "      <td>0.0</td>\n",
       "      <td>0.0</td>\n",
       "      <td>1585.303536</td>\n",
       "    </tr>\n",
       "  </tbody>\n",
       "</table>\n",
       "<p>1 rows × 40 columns</p>\n",
       "</div>"
      ],
      "text/plain": [
       "            ds      trend   yhat_lower   yhat_upper  trend_lower  trend_upper  \\\n",
       "207 2010-06-22  1612.2055  1442.965118  1706.615903  1473.285752  1733.623203   \n",
       "\n",
       "         add1  add1_lower  add1_upper      add2  ...    weekly  weekly_lower  \\\n",
       "207 -6.001424   -6.001424   -6.001424 -0.023802  ... -1.537391     -1.537391   \n",
       "\n",
       "     weekly_upper    yearly  yearly_lower  yearly_upper  multiplicative_terms  \\\n",
       "207     -1.537391 -7.755132     -7.755132     -7.755132                   0.0   \n",
       "\n",
       "     multiplicative_terms_lower  multiplicative_terms_upper         yhat  \n",
       "207                         0.0                         0.0  1585.303536  \n",
       "\n",
       "[1 rows x 40 columns]"
      ]
     },
     "execution_count": 55,
     "metadata": {},
     "output_type": "execute_result"
    }
   ],
   "source": [
    "forecast2[forecast2['weekly'] == forecast2['weekly'].min()] # finding the day with minimal seasonality"
   ]
  },
  {
   "cell_type": "markdown",
   "metadata": {
    "papermill": {
     "duration": 0.05712,
     "end_time": "2020-10-13T10:35:01.367166",
     "exception": false,
     "start_time": "2020-10-13T10:35:01.310046",
     "status": "completed"
    },
    "tags": []
   },
   "source": [
    "# None of my answers were in the options"
   ]
  }
 ],
 "metadata": {
  "kernelspec": {
   "display_name": "Python 3",
   "language": "python",
   "name": "python3"
  },
  "language_info": {
   "codemirror_mode": {
    "name": "ipython",
    "version": 3
   },
   "file_extension": ".py",
   "mimetype": "text/x-python",
   "name": "python",
   "nbconvert_exporter": "python",
   "pygments_lexer": "ipython3",
   "version": "3.7.7"
  },
  "papermill": {
   "duration": 40.41326,
   "end_time": "2020-10-13T10:35:01.530403",
   "environment_variables": {},
   "exception": null,
   "input_path": "__notebook__.ipynb",
   "output_path": "__notebook__.ipynb",
   "parameters": {},
   "start_time": "2020-10-13T10:34:21.117143",
   "version": "2.1.0"
  }
 },
 "nbformat": 4,
 "nbformat_minor": 4
}
